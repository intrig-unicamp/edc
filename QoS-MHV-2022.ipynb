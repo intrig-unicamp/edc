{
 "cells": [
  {
   "cell_type": "code",
   "execution_count": null,
   "metadata": {},
   "outputs": [],
   "source": [
    "#from  scapy.all import *\n",
    "import nest_asyncio\n",
    "nest_asyncio.apply()\n",
    "import pandas as pd\n",
    "from scapy.all import *\n",
    "#files name in pcap direcoty \n",
    "import glob\n",
    "import numpy as np"
   ]
  },
  {
   "cell_type": "code",
   "execution_count": null,
   "metadata": {},
   "outputs": [],
   "source": [
    "#Server IP"
   ]
  },
  {
   "cell_type": "code",
   "execution_count": null,
   "metadata": {},
   "outputs": [],
   "source": [
    "serverIP = '10.0.0.1'"
   ]
  },
  {
   "cell_type": "code",
   "execution_count": null,
   "metadata": {},
   "outputs": [],
   "source": [
    "#Folder to read file"
   ]
  },
  {
   "cell_type": "code",
   "execution_count": null,
   "metadata": {},
   "outputs": [],
   "source": [
    "folder = 'fol_1_mode_5g_trace_Driving-8_host_1_algo_elastic_protocol_tcp_server_WSGI'"
   ]
  },
  {
   "cell_type": "code",
   "execution_count": null,
   "metadata": {},
   "outputs": [],
   "source": [
    "#Window size, here I used 5-seconds"
   ]
  },
  {
   "cell_type": "code",
   "execution_count": null,
   "metadata": {},
   "outputs": [],
   "source": [
    "windows_size=5"
   ]
  },
  {
   "cell_type": "code",
   "execution_count": null,
   "metadata": {},
   "outputs": [],
   "source": [
    "#read pcap file. File is inside two other folder"
   ]
  },
  {
   "cell_type": "code",
   "execution_count": null,
   "metadata": {},
   "outputs": [],
   "source": [
    "location = 'Sintel-8910/elastic-8910/'+folder+''\n",
    "pcap =rdpcap(location+'/h1_ap.pcap')"
   ]
  },
  {
   "cell_type": "code",
   "execution_count": null,
   "metadata": {},
   "outputs": [],
   "source": [
    "#Create Folder to save QoS features"
   ]
  },
  {
   "cell_type": "code",
   "execution_count": null,
   "metadata": {},
   "outputs": [],
   "source": [
    "\n",
    "import os\n",
    "os.mkdir('qos/'+str(folder)+'/')"
   ]
  },
  {
   "cell_type": "code",
   "execution_count": null,
   "metadata": {},
   "outputs": [],
   "source": [
    "def Average(lst): \n",
    "    if lst:\n",
    "        return sum(lst) / len(lst)\n",
    "    else:\n",
    "        return 0"
   ]
  },
  {
   "cell_type": "code",
   "execution_count": null,
   "metadata": {},
   "outputs": [],
   "source": [
    "connection=[];       \n",
    "flag=True\n",
    "for ppp in pcap:                               \n",
    "    if (ppp.haslayer(TCP)):\n",
    "        if (ppp[IP].dst == '10.0.0.1'):\n",
    "            if (ppp[TCP].flags == 'FA' or ppp[TCP].flags == 'F'):\n",
    "                connection.append(ppp[TCP].sport)\n",
    "\n",
    "start=int(0)\n",
    "end_time=120\n",
    "begin=0\n"
   ]
  },
  {
   "cell_type": "code",
   "execution_count": null,
   "metadata": {},
   "outputs": [],
   "source": [
    "# QoS features saved in a csv file"
   ]
  },
  {
   "cell_type": "code",
   "execution_count": null,
   "metadata": {},
   "outputs": [],
   "source": [
    "df= pd.DataFrame(columns=['Time',\n",
    "                          'interIntervalTimeDP',\n",
    "                          'interIntervalTimeDP_GT100',\n",
    "                          'AvgTimeBWDPK',\n",
    "                          'AvgTimeBWDPK_GT100',\n",
    "                          'DThroughput',\n",
    "                          'DTTime',\n",
    "                          'DTotal_Packets',\n",
    "                          'DTotal_Packets_GT100',\n",
    "                          'STD_Less',\n",
    "                          'STD_GT',\n",
    "                          'DP_Times_str','Packets_str','GT100_Times_str',\n",
    "                          'GT100_Packets_str'\n",
    "                         \n",
    "                         ])\n",
    "for i in np.arange(start, 240, windows_size):\n",
    "    dl_05=0; dc_05=0;dc_gt100_05=0;da_05=0;\n",
    "    dt_05=begin;\n",
    "    packets_time_05=[];d_ia_05=[];d_pk_size_05=[];d_pk_size_gt100_05=[];\n",
    "    ul_05=0;uc_gt100_05=0;ua_05=0;\n",
    "    ut_05=begin;uc_05=0\n",
    "    u_ia_05=[];u_pk_size_05=[];u_pk_size_gt100_05=[];d_packets_gt_100_time=[];\n",
    "    u_packets_time_05=[];u_packets_gt_100_time=[]\n",
    "    for p in pcap:\n",
    "        #print(float(p.time-pcap[0].time))\n",
    "        if (p.haslayer(TCP)) and ((float(p.time-pcap[0].time))>= i) and  ((float(p.time-pcap[0].time))< i+windows_size) and (p[TCP].sport in connection or p[TCP].dport in connection):\n",
    "            #print(p.time-pcap[0].time)\n",
    "            #print(p.time)\n",
    "## throughput and packet\n",
    "            if(p[IP].src== '10.0.0.1'):# downlink\n",
    "                #print(len(p[IP])*8)\n",
    "                dl_05=dl_05+(int(len(p[IP]))*8)\n",
    "                dc_05=dc_05+1\n",
    "                if int(len(p))>=100:# ignore ack pk\n",
    "                    dc_gt100_05=dc_gt100_05+1\n",
    "\n",
    "                ## ia and packet size\n",
    "                #print(p.time)\n",
    "                packets_time_05.append(float(p.time))\n",
    "                da_05=float(p.time-dt_05)\n",
    "                d_ia_05.append(da_05)\n",
    "                dt_05=p.time\n",
    "                d_pk_size_05.append(int(len(p[IP])))\n",
    "                #print(p.show())\n",
    "                if int(len(p))>=100:# ignore ack pk\n",
    "                    d_packets_gt_100_time.append(p.time)\n",
    "                    d_pk_size_gt100_05.append(int(len(p[IP])))\n",
    "                        \n",
    "#     print(d_ia_05)\n",
    "#     print(d_pk_size_gt100_05) #Uplink\n",
    "#     print(dc_05)\n",
    "\n",
    "            if(p[IP].dst== '10.0.0.1'):# uplink\n",
    "                ul_05=ul_05+(int(len(p[IP]))*8)\n",
    "                uc_05=uc_05+1\n",
    "                if int(len(p))>=100:# ignore ack pk\n",
    "                    uc_gt100_05=uc_gt100_05+1\n",
    "\n",
    "                   ## ia and packet size\n",
    "                u_packets_time_05.append(float(p.time))\n",
    "                ua_05=float(p.time-ut_05)\n",
    "                u_ia_05.append(ua_05)\n",
    "                ut_05=p.time\n",
    "                u_pk_size_05.append(int(len(p[IP])))\n",
    "                if int(len(p))>=100:# ignore ack pk\n",
    "                    u_packets_gt_100_time.append(p.time)\n",
    "                    u_pk_size_gt100_05.append(int(len(p[IP]))) \n",
    "    #-----------------------------------Download Block------------------------     \n",
    "    if packets_time_05:\n",
    "        if dc_05>2:\n",
    "            tpTime_05 = packets_time_05[-1]- packets_time_05[0]\n",
    "            std_less=np.std(d_pk_size_05)\n",
    "        else:\n",
    "            std_less=0\n",
    "            \n",
    "        if dc_gt100_05>2:\n",
    "            print(dc_gt100_05)\n",
    "            tpTime_05_GT100 = d_packets_gt_100_time[-1]- d_packets_gt_100_time[0]\n",
    "            AvgTime_List_GT100 = [d_packets_gt_100_time[i + 1] - d_packets_gt_100_time[i] for i in range(len(d_packets_gt_100_time)-1)]\n",
    "            AvgTime_GT100 = Average(AvgTime_List_GT100)\n",
    "            std_grt=np.std(d_pk_size_gt100_05)\n",
    "        else:\n",
    "            AvgTime_GT100 =0\n",
    "            tpTime_05_GT100=0\n",
    "            std_grt=0\n",
    "            \n",
    "        u_tpTime_05=u_packets_time_05[-1]- u_packets_time_05[0]\n",
    "        #here last packet time minus first packet time, divided by all packets from server\n",
    "        \n",
    "        TP_05=dl_05/tpTime_05\n",
    "        TP_05_Time=dl_05/windows_size\n",
    "#         u_TP_05=ul_05/u_tpTime_05\n",
    "        #interIntervalTime\n",
    "        tpTime_05\n",
    "#         u_tpTime_05\n",
    "        #total packets\n",
    "        dc_05\n",
    "#         uc_05\n",
    "        #total packets greater than 100\n",
    "        d_pk_size_gt100_05\n",
    "#         u_pk_size_gt100_05\n",
    "        \n",
    "        #Average time between packets\n",
    "        time_between_each_packets_05 = [packets_time_05[i + 1] - packets_time_05[i] for i in range(len(packets_time_05)-1)]\n",
    "        average_05 = Average(time_between_each_packets_05)\n",
    "        \n",
    "#         u_time_between_each_packets_05 = [u_packets_time_05[i + 1] - u_packets_time_05[i] for i in range(len(u_packets_time_05)-1)]\n",
    "#         u_average_05 = Average(u_time_between_each_packets_05)\n",
    "        #if len(d_packets_gt_100_time)>2:\n",
    "            \n",
    "        \n",
    "#         u_AvgTime_List_GT100 = [u_packets_gt_100_time[i + 1] - u_packets_gt_100_time[i] for i in range(len(u_packets_gt_100_time)-1)]\n",
    "#         u_AvgTime_GT100 = Average(u_AvgTime_List_GT100)\n",
    "\n",
    "\n",
    "        tms_string=''\n",
    "        for tms in packets_time_05:\n",
    "            tms_string = tms_string + str(tms)+'~'\n",
    "            \n",
    "#         u_tms_string=''\n",
    "#         for u_tms in u_packets_time_05:\n",
    "#             u_tms_string = u_tms_string + str(u_tms)+'~'\n",
    "            \n",
    "        pkt_string=''\n",
    "        for pk in d_pk_size_05:\n",
    "            pkt_string = pkt_string + str(pk)+'~'\n",
    "            \n",
    "#         u_pkt_string=''\n",
    "#         for u_pk in u_pk_size_05:\n",
    "#             u_pkt_string = u_pkt_string + str(u_pk)+'~'\n",
    "\n",
    "        d_packet_gt100_time_str=''\n",
    "        for dpg100t in d_packets_gt_100_time:\n",
    "            d_packet_gt100_time_str=d_packet_gt100_time_str+str(dpg100t)+'~'\n",
    "            \n",
    "#         u_packet_gt100_time_str=''\n",
    "#         for u_dpg100t in u_packets_gt_100_time:\n",
    "#             u_packet_gt100_time_str=u_packet_gt100_time_str+str(u_dpg100t)+'~'\n",
    "            \n",
    "        d_packet_gt100_str=''\n",
    "        for dpg100 in d_pk_size_gt100_05:\n",
    "            d_packet_gt100_str=d_packet_gt100_str+str(dpg100)+'~'\n",
    "            \n",
    "#       \n",
    "\n",
    "        df = df.append(pd.Series([i,\n",
    "                                  tpTime_05,\n",
    "                                  tpTime_05_GT100,\n",
    "                                  average_05,\n",
    "                                  AvgTime_GT100,\n",
    "                                  TP_05,\n",
    "                                  TP_05_Time,\n",
    "                                  dc_05,\n",
    "                                  dc_gt100_05,\n",
    "                                  std_less,\n",
    "                                  std_grt,\n",
    "                                  tms_string,\n",
    "                                  pkt_string,\n",
    "                                  d_packet_gt100_time_str,\n",
    "                                  d_packet_gt100_str\n",
    "                                  \n",
    "                                 ], index=df.columns ), ignore_index=True)\n",
    "        df.to_csv ('qos/'+folder+'/qos.csv', index = None, header=True)\n",
    "# print('done')"
   ]
  },
  {
   "cell_type": "code",
   "execution_count": null,
   "metadata": {},
   "outputs": [],
   "source": []
  }
 ],
 "metadata": {
  "kernelspec": {
   "display_name": "Python 3",
   "language": "python",
   "name": "python3"
  },
  "language_info": {
   "codemirror_mode": {
    "name": "ipython",
    "version": 3
   },
   "file_extension": ".py",
   "mimetype": "text/x-python",
   "name": "python",
   "nbconvert_exporter": "python",
   "pygments_lexer": "ipython3",
   "version": "3.8.3"
  }
 },
 "nbformat": 4,
 "nbformat_minor": 4
}
