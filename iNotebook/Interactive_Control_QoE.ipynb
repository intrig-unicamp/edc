{
 "cells": [
  {
   "cell_type": "code",
   "execution_count": 2,
   "metadata": {},
   "outputs": [],
   "source": [
    "import numpy as np\n",
    "import pandas as pd\n",
    "import seaborn as sns\n",
    "from scipy import stats\n",
    "import matplotlib.pyplot as plt\n",
    "from ipywidgets import *\n",
    "import warnings\n",
    "warnings.simplefilter(action='ignore', category=Warning)\n",
    "%matplotlib inline"
   ]
  },
  {
   "cell_type": "code",
   "execution_count": 14,
   "metadata": {},
   "outputs": [],
   "source": [
    "df = pd.read_csv(\"LogsEB.csv\")"
   ]
  },
  {
   "cell_type": "code",
   "execution_count": 15,
   "metadata": {},
   "outputs": [
    {
     "data": {
      "text/plain": [
       "Index(['intExpID', 'Type', 'Case', 'Protocol', 'total_users', 'user_no',\n",
       "       'intSeg', 'intArr', 'intDel', 'intSta', 'intRep', 'intDelRate',\n",
       "       'intActRate', 'intByteSize', 'floatBuf', 'algorithm_used', 'seg_Dur',\n",
       "       'width', 'height', 'resolutions', 'Clae', 'Duanmu', 'Yin', 'Yu',\n",
       "       'P1203'],\n",
       "      dtype='object')"
      ]
     },
     "execution_count": 15,
     "metadata": {},
     "output_type": "execute_result"
    }
   ],
   "source": [
    "df.columns"
   ]
  },
  {
   "cell_type": "code",
   "execution_count": 16,
   "metadata": {},
   "outputs": [],
   "source": [
    "exp = []\n",
    "for n in range(1, 65):\n",
    "    exp.append(n)"
   ]
  },
  {
   "cell_type": "code",
   "execution_count": 17,
   "metadata": {},
   "outputs": [],
   "source": [
    "def interactive_contol(Case, Algorithm, Target, Experiment):\n",
    "    \n",
    "    if Algorithm=='Rate Based':\n",
    "        CASE= df[(df['algorithm_used']=='conventional')]\n",
    "        LABEL='Conventional'\n",
    "    elif Algorithm=='Buffer Based':\n",
    "        CASE= df[(df['algorithm_used']=='bba')]\n",
    "        LABEL='BBA'\n",
    "    else:\n",
    "        CASE= df[(df['algorithm_used']=='elastic')]\n",
    "        LABEL='Elastic'\n",
    "    \n",
    "    CASEID = CASE[( CASE['intExpID']==Experiment) & (CASE['Case']==Case)]\n",
    "\n",
    "    plt.style.use('classic')\n",
    "    fig = plt.figure(figsize=(10,5))\n",
    "    with plt.style.context('Solarize_Light2'):\n",
    "        fig.set_facecolor('white')\n",
    "        plt.rcParams['axes.facecolor'] = 'white'\n",
    "        plt.plot(CASEID['intSeg'], CASEID[Target], label=LABEL, c='blue', mfc='red',marker='o',mec='k',markersize=8)\n",
    "        plt.title(LABEL, fontsize=11)\n",
    "        plt.xlabel('Time/s', fontsize=12, color='black')\n",
    "        plt.ylabel(Target, fontsize=12, color='black')\n",
    "        plt.legend(loc='best',frameon=False)\n",
    "        plt.grid(axis='y', c='#D3D3D3')\n",
    "        plt.grid(axis='x', c='#D3D3D3')\n",
    "        plt.tick_params(axis='x',  colors='black')\n",
    "        plt.tick_params(axis='y', colors='black')\n",
    "    plt.show()\n",
    "    \n",
    "\n"
   ]
  },
  {
   "cell_type": "code",
   "execution_count": 18,
   "metadata": {},
   "outputs": [
    {
     "data": {
      "application/vnd.jupyter.widget-view+json": {
       "model_id": "b294f07acde545ce9171c0f57c4dcb07",
       "version_major": 2,
       "version_minor": 0
      },
      "text/plain": [
       "interactive(children=(Dropdown(description='Case', options=('Driving-10', 'Driving-9', 'Driving-8'), value='Dr…"
      ]
     },
     "metadata": {},
     "output_type": "display_data"
    },
    {
     "data": {
      "text/plain": [
       "<function __main__.interactive_contol(Case, Algorithm, Target, Experiment)>"
      ]
     },
     "execution_count": 18,
     "metadata": {},
     "output_type": "execute_result"
    }
   ],
   "source": [
    "interact(interactive_contol, Case=['Driving-10','Driving-9','Driving-8'],Algorithm=['Buffer Based','Hybrid','Rate Based'], Target=['intSta', 'floatBuf',\n",
    "       'intArr', 'intDel', 'resolutions', 'Clae', 'Duanmu', 'Yin', 'Yu','P1203'], Experiment=exp)\n"
   ]
  },
  {
   "cell_type": "code",
   "execution_count": null,
   "metadata": {},
   "outputs": [],
   "source": []
  }
 ],
 "metadata": {
  "kernelspec": {
   "display_name": "Python 3",
   "language": "python",
   "name": "python3"
  },
  "language_info": {
   "codemirror_mode": {
    "name": "ipython",
    "version": 3
   },
   "file_extension": ".py",
   "mimetype": "text/x-python",
   "name": "python",
   "nbconvert_exporter": "python",
   "pygments_lexer": "ipython3",
   "version": "3.8.3"
  }
 },
 "nbformat": 4,
 "nbformat_minor": 4
}
